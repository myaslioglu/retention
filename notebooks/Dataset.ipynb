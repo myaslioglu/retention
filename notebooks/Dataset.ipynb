{
 "cells": [
  {
   "cell_type": "code",
   "execution_count": 22,
   "id": "ab189f37-0f2f-4c56-9bc4-d48f12080987",
   "metadata": {},
   "outputs": [],
   "source": [
    "from datasets import load_dataset"
   ]
  },
  {
   "cell_type": "code",
   "execution_count": 35,
   "id": "26c5225b-214f-4a47-b4ce-63612dd18f27",
   "metadata": {},
   "outputs": [],
   "source": [
    "DATAPATH = \"../data/\""
   ]
  },
  {
   "cell_type": "markdown",
   "id": "b81dd1e9-76eb-4ab3-bb21-f10d65628a81",
   "metadata": {},
   "source": [
    "## Dataset 1: IWSLT14 De→En (≈160k pairs)"
   ]
  },
  {
   "cell_type": "code",
   "execution_count": 45,
   "id": "95152d08-46a5-4054-9aa8-814b830d2a01",
   "metadata": {
    "editable": true,
    "slideshow": {
     "slide_type": ""
    },
    "tags": []
   },
   "outputs": [],
   "source": [
    "ds = load_dataset(\"wmt/wmt14\", \"de-en\", \n",
    "                 cache_dir=DATAPATH,\n",
    "                 download_mode=\"reuse_dataset_if_exists\")"
   ]
  },
  {
   "cell_type": "code",
   "execution_count": 50,
   "id": "db6a3244-d6dc-4355-9b69-e39cbac2785f",
   "metadata": {},
   "outputs": [
    {
     "data": {
      "text/plain": [
       "datasets.arrow_dataset.Dataset"
      ]
     },
     "execution_count": 50,
     "metadata": {},
     "output_type": "execute_result"
    }
   ],
   "source": [
    "type(ds['train'])"
   ]
  },
  {
   "cell_type": "code",
   "execution_count": 30,
   "id": "d43575d6-8e6b-4c37-911f-2cebf1cc1c60",
   "metadata": {},
   "outputs": [
    {
     "name": "stdout",
     "output_type": "stream",
     "text": [
      "Resumption of the session Wiederaufnahme der Sitzungsperiode\n"
     ]
    }
   ],
   "source": [
    "for x in ds['train']:\n",
    "    src_x = x['translation']['en']\n",
    "    tgt_x = x['translation']['de']\n",
    "    print(src_x, tgt_x)\n",
    "    break"
   ]
  },
  {
   "cell_type": "code",
   "execution_count": 37,
   "id": "e6205519-3c7c-448b-b224-a114c8aec758",
   "metadata": {},
   "outputs": [],
   "source": [
    "from pathlib import Path"
   ]
  },
  {
   "cell_type": "code",
   "execution_count": 40,
   "id": "a4b320ec-c2de-40f2-9bf8-b94b7093db43",
   "metadata": {},
   "outputs": [],
   "source": [
    "def load_data(data_path: Path):\n",
    "    if data_path.exists():\n",
    "        print(\"Hello\")\n",
    "    data = load_dataset(\"wmt/wmt14\", \"de-en\", \n",
    "                 cache_dir=data_path,\n",
    "                 download_mode=\"reuse_cache_if_exists\")"
   ]
  },
  {
   "cell_type": "code",
   "execution_count": 51,
   "id": "89587ee6-c418-45c6-8d40-7ae31eec4bb3",
   "metadata": {},
   "outputs": [
    {
     "name": "stdout",
     "output_type": "stream",
     "text": [
      "Hello\n"
     ]
    },
    {
     "data": {
      "application/vnd.jupyter.widget-view+json": {
       "model_id": "d1d362ac84cf4dc8ad56c6d388e005e6",
       "version_major": 2,
       "version_minor": 0
      },
      "text/plain": [
       "Generating train split:   0%|          | 0/4508785 [00:00<?, ? examples/s]"
      ]
     },
     "metadata": {},
     "output_type": "display_data"
    },
    {
     "data": {
      "application/vnd.jupyter.widget-view+json": {
       "model_id": "e2daa883aaa7428b8ca990e29489d4a3",
       "version_major": 2,
       "version_minor": 0
      },
      "text/plain": [
       "Generating validation split:   0%|          | 0/3000 [00:00<?, ? examples/s]"
      ]
     },
     "metadata": {},
     "output_type": "display_data"
    },
    {
     "data": {
      "application/vnd.jupyter.widget-view+json": {
       "model_id": "217f1d1cfdc0409b85ebcaab261fbdea",
       "version_major": 2,
       "version_minor": 0
      },
      "text/plain": [
       "Generating test split:   0%|          | 0/3003 [00:00<?, ? examples/s]"
      ]
     },
     "metadata": {},
     "output_type": "display_data"
    }
   ],
   "source": [
    "load_data(Path(DATAPATH))"
   ]
  },
  {
   "cell_type": "code",
   "execution_count": 52,
   "id": "c407ffb5-d7d4-430b-b75b-af8425b3b5ce",
   "metadata": {},
   "outputs": [],
   "source": [
    "import torch"
   ]
  },
  {
   "cell_type": "code",
   "execution_count": 55,
   "id": "0a1e6faa-be89-4c12-b816-089648711ae9",
   "metadata": {},
   "outputs": [],
   "source": [
    "x = torch.rand(size=(20, 768))"
   ]
  },
  {
   "cell_type": "code",
   "execution_count": 58,
   "id": "7d0ebff7-5f77-43f1-b12c-36eccdf5ffbe",
   "metadata": {},
   "outputs": [],
   "source": [
    "y = x.reshape(1, 20, 768)"
   ]
  },
  {
   "cell_type": "code",
   "execution_count": 59,
   "id": "353e53be-c91f-4116-864a-35f2bda2bc31",
   "metadata": {},
   "outputs": [
    {
     "data": {
      "text/plain": [
       "torch.Size([1, 20, 768])"
      ]
     },
     "execution_count": 59,
     "metadata": {},
     "output_type": "execute_result"
    }
   ],
   "source": [
    "y.shape"
   ]
  },
  {
   "cell_type": "code",
   "execution_count": 60,
   "id": "0deebec8-4170-46f6-b054-bca46c7fb6ba",
   "metadata": {},
   "outputs": [],
   "source": [
    "z = torch.rand(size=(32, 20, 768))"
   ]
  },
  {
   "cell_type": "code",
   "execution_count": 62,
   "id": "57353ec8-03f0-414f-af31-dea0efcd0c46",
   "metadata": {},
   "outputs": [
    {
     "data": {
      "text/plain": [
       "torch.Size([32, 20, 768])"
      ]
     },
     "execution_count": 62,
     "metadata": {},
     "output_type": "execute_result"
    }
   ],
   "source": [
    "z.shape"
   ]
  },
  {
   "cell_type": "code",
   "execution_count": 63,
   "id": "577cb6e6-83dd-4cb4-9eb6-c1ea0f982703",
   "metadata": {},
   "outputs": [],
   "source": [
    "o = z + y"
   ]
  },
  {
   "cell_type": "code",
   "execution_count": null,
   "id": "ffee97c4-181f-4bdb-8a99-37120a7be9b9",
   "metadata": {},
   "outputs": [],
   "source": []
  }
 ],
 "metadata": {
  "kernelspec": {
   "display_name": "Python 3 (ipykernel)",
   "language": "python",
   "name": "python3"
  },
  "language_info": {
   "codemirror_mode": {
    "name": "ipython",
    "version": 3
   },
   "file_extension": ".py",
   "mimetype": "text/x-python",
   "name": "python",
   "nbconvert_exporter": "python",
   "pygments_lexer": "ipython3",
   "version": "3.13.6"
  }
 },
 "nbformat": 4,
 "nbformat_minor": 5
}
