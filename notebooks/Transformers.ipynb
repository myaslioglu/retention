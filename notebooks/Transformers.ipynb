{
 "cells": [
  {
   "cell_type": "code",
   "execution_count": 1,
   "id": "2792f1b0",
   "metadata": {},
   "outputs": [],
   "source": [
    "# Add project root to sys.path for absolute imports\n",
    "import sys\n",
    "from pathlib import Path\n",
    "project_root = Path().resolve().parent\n",
    "if str(project_root) not in sys.path:\n",
    "    sys.path.insert(0, str(project_root))\n",
    "if project_root.parent not in sys.path:\n",
    "    sys.path.insert(0, str(project_root.parent))"
   ]
  },
  {
   "cell_type": "code",
   "execution_count": 2,
   "id": "dc12417e",
   "metadata": {},
   "outputs": [],
   "source": [
    "# Add a device based on the availability of GPU\n",
    "import torch\n",
    "device = torch.device(\"cuda\" if torch.cuda.is_available() else \"cpu\")"
   ]
  },
  {
   "cell_type": "markdown",
   "id": "7369ec3a",
   "metadata": {},
   "source": [
    "## Get the model"
   ]
  },
  {
   "cell_type": "code",
   "execution_count": 3,
   "id": "688131a1",
   "metadata": {},
   "outputs": [],
   "source": [
    "from transformer.model_encoder import TransformerEncoder"
   ]
  },
  {
   "cell_type": "code",
   "execution_count": 4,
   "id": "b9455034",
   "metadata": {},
   "outputs": [],
   "source": [
    "encoder = TransformerEncoder(\n",
    "    vocab_size=52027,\n",
    "    hidden_size=512,\n",
    "    seq_len=1024,\n",
    "    dropout_pe=0.1,\n",
    "    n_layers=6,\n",
    "    n_heads=8,\n",
    "    ff_size=2048,\n",
    "    d_k=64\n",
    ")"
   ]
  },
  {
   "cell_type": "markdown",
   "id": "3df39c9f",
   "metadata": {},
   "source": [
    "## Get the Tokenizer"
   ]
  },
  {
   "cell_type": "code",
   "execution_count": 5,
   "id": "b959f796",
   "metadata": {},
   "outputs": [],
   "source": [
    "from tokenizer import get_tokenizer"
   ]
  },
  {
   "cell_type": "code",
   "execution_count": 6,
   "id": "e9817359",
   "metadata": {},
   "outputs": [],
   "source": [
    "tokenizer = get_tokenizer(\n",
    "    tokenizer_kind='tiktoken',\n",
    "    tokenizer_model='gpt2',\n",
    "    vocab_size=52027,\n",
    ")"
   ]
  },
  {
   "cell_type": "markdown",
   "id": "0c810308",
   "metadata": {},
   "source": [
    "## Get the Dataset"
   ]
  },
  {
   "cell_type": "code",
   "execution_count": 7,
   "id": "39caf6f1",
   "metadata": {},
   "outputs": [],
   "source": [
    "from dataset import TinyStoryDataset"
   ]
  },
  {
   "cell_type": "code",
   "execution_count": 8,
   "id": "1839ac39",
   "metadata": {},
   "outputs": [],
   "source": [
    "dataset = TinyStoryDataset(seq_len=1024)"
   ]
  },
  {
   "cell_type": "markdown",
   "id": "4955f43a",
   "metadata": {},
   "source": [
    "## Get the Data and tokenize"
   ]
  },
  {
   "cell_type": "code",
   "execution_count": 9,
   "id": "a17a59e1",
   "metadata": {},
   "outputs": [],
   "source": [
    "from pathlib import Path\n",
    "from dataset import load_data\n",
    "DATAPATH = Path(\"../data/TinyStories.txt\")"
   ]
  },
  {
   "cell_type": "code",
   "execution_count": 10,
   "id": "2c6a9a5a",
   "metadata": {},
   "outputs": [
    {
     "name": "stdout",
     "output_type": "stream",
     "text": [
      "Loading data took 0.83 seconds\n"
     ]
    }
   ],
   "source": [
    "data = load_data(DATAPATH)"
   ]
  },
  {
   "cell_type": "code",
   "execution_count": 11,
   "id": "bbf21814",
   "metadata": {},
   "outputs": [
    {
     "name": "stdout",
     "output_type": "stream",
     "text": [
      "Tokenization took 70.37 seconds\n",
      "Number of tokens: 476111723\n"
     ]
    }
   ],
   "source": [
    "n_tokens: int = dataset.tokenize(tokenizer, data, inplace=True)\n",
    "print(f\"Number of tokens: {n_tokens}\")"
   ]
  },
  {
   "cell_type": "markdown",
   "id": "639b7a15",
   "metadata": {},
   "source": [
    "## Train the model"
   ]
  },
  {
   "cell_type": "code",
   "execution_count": 12,
   "id": "6be5a68f",
   "metadata": {},
   "outputs": [],
   "source": [
    "from training import train"
   ]
  },
  {
   "cell_type": "code",
   "execution_count": 13,
   "id": "741907c3",
   "metadata": {},
   "outputs": [],
   "source": [
    "train(\n",
    "    dataset=dataset,\n",
    "    model=encoder,\n",
    "    batch_size=32,\n",
    "    epoch=10\n",
    ")"
   ]
  },
  {
   "cell_type": "code",
   "execution_count": null,
   "id": "af7da53f-b464-4aca-a0cc-a04eb421c9b8",
   "metadata": {},
   "outputs": [],
   "source": []
  }
 ],
 "metadata": {
  "kernelspec": {
   "display_name": "Python 3 (ipykernel)",
   "language": "python",
   "name": "python3"
  },
  "language_info": {
   "codemirror_mode": {
    "name": "ipython",
    "version": 3
   },
   "file_extension": ".py",
   "mimetype": "text/x-python",
   "name": "python",
   "nbconvert_exporter": "python",
   "pygments_lexer": "ipython3",
   "version": "3.13.6"
  }
 },
 "nbformat": 4,
 "nbformat_minor": 5
}
